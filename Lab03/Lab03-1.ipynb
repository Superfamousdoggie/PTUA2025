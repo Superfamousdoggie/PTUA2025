{
 "cells": [
  {
   "cell_type": "code",
   "execution_count": 1,
   "id": "9ed19de7-689f-4cda-a4c9-4c1b68088784",
   "metadata": {},
   "outputs": [],
   "source": [
    "n = 42"
   ]
  },
  {
   "cell_type": "code",
   "execution_count": 2,
   "id": "7b7a38f3-995b-4165-bc6e-c778b31d7ff7",
   "metadata": {},
   "outputs": [
    {
     "ename": "SyntaxError",
     "evalue": "cannot assign to literal here. Maybe you meant '==' instead of '='? (3090476294.py, line 1)",
     "output_type": "error",
     "traceback": [
      "\u001b[1;36m  Cell \u001b[1;32mIn[2], line 1\u001b[1;36m\u001b[0m\n\u001b[1;33m    42 = n\u001b[0m\n\u001b[1;37m    ^\u001b[0m\n\u001b[1;31mSyntaxError\u001b[0m\u001b[1;31m:\u001b[0m cannot assign to literal here. Maybe you meant '==' instead of '='?\n"
     ]
    }
   ],
   "source": [
    "42 = n"
   ]
  },
  {
   "cell_type": "code",
   "execution_count": null,
   "id": "f4466c5a-0641-4394-9395-5f7a2814c4ca",
   "metadata": {},
   "outputs": [],
   "source": [
    "x = y = 1"
   ]
  },
  {
   "cell_type": "code",
   "execution_count": null,
   "id": "cfb2c62f-1473-4f5d-802a-109e626d849e",
   "metadata": {},
   "outputs": [],
   "source": [
    "x = y = 1;"
   ]
  },
  {
   "cell_type": "code",
   "execution_count": null,
   "id": "4dca9f82-8806-4141-af79-04c11c1a41eb",
   "metadata": {},
   "outputs": [],
   "source": [
    "x = y = 1."
   ]
  },
  {
   "cell_type": "code",
   "execution_count": 1,
   "id": "4fe82cec-905c-4717-9909-3047aaf4bd5e",
   "metadata": {},
   "outputs": [
    {
     "ename": "NameError",
     "evalue": "name 'xy' is not defined",
     "output_type": "error",
     "traceback": [
      "\u001b[1;31m---------------------------------------------------------------------------\u001b[0m",
      "\u001b[1;31mNameError\u001b[0m                                 Traceback (most recent call last)",
      "Cell \u001b[1;32mIn[1], line 1\u001b[0m\n\u001b[1;32m----> 1\u001b[0m xy\n",
      "\u001b[1;31mNameError\u001b[0m: name 'xy' is not defined"
     ]
    }
   ],
   "source": [
    "xy"
   ]
  },
  {
   "cell_type": "code",
   "execution_count": 3,
   "id": "015a5b57-6813-4d52-94b9-a122b7fa9741",
   "metadata": {},
   "outputs": [],
   "source": [
    "import math"
   ]
  },
  {
   "cell_type": "code",
   "execution_count": 15,
   "id": "0b97c152-e4c7-4879-a581-537bd85c8686",
   "metadata": {},
   "outputs": [
    {
     "name": "stdout",
     "output_type": "stream",
     "text": [
      "945.4499999999999\n"
     ]
    }
   ],
   "source": [
    "x = 24.95 * (1-0.4) * 60\n",
    "y = 3 + 0.75*59\n",
    "t = x + y\n",
    "print(t)"
   ]
  },
  {
   "cell_type": "code",
   "execution_count": 1,
   "id": "13b23a45-8391-458e-8f7a-938077a18c46",
   "metadata": {},
   "outputs": [
    {
     "name": "stdout",
     "output_type": "stream",
     "text": [
      "You will get home at: 07:30 AM\n"
     ]
    }
   ],
   "source": [
    "from datetime import datetime, timedelta\n",
    "\n",
    "start_time_str = \"06:52\"\n",
    "start_time = datetime.strptime(start_time_str, \"%H:%M\")\n",
    "\n",
    "easy_pace = timedelta(minutes=8, seconds=15)\n",
    "tempo_pace = timedelta(minutes=7, seconds=12)\n",
    "\n",
    "total_run_time = 1 * easy_pace + 3 * tempo_pace + 1 * easy_pace\n",
    "\n",
    "finish_time = start_time + total_run_time\n",
    "\n",
    "print(\"You will get home at:\", finish_time.strftime(\"%I:%M %p\"))\n"
   ]
  },
  {
   "cell_type": "code",
   "execution_count": 1,
   "id": "1f1a767e-0913-4e34-b898-85090398c708",
   "metadata": {},
   "outputs": [
    {
     "name": "stdout",
     "output_type": "stream",
     "text": [
      "3\n"
     ]
    }
   ],
   "source": [
    "word = \"banana\"\n",
    "count_a = word.count(\"a\")\n",
    "print(count_a)"
   ]
  },
  {
   "cell_type": "code",
   "execution_count": 3,
   "id": "9bf39532-acc9-4e07-bab6-de8a347da074",
   "metadata": {},
   "outputs": [
    {
     "name": "stdout",
     "output_type": "stream",
     "text": [
      "True\n",
      "False\n"
     ]
    }
   ],
   "source": [
    "def is_palindrome(s):\n",
    "    return s == s[::-1]\n",
    "\n",
    "print(is_palindrome(\"racecar\")) \n",
    "print(is_palindrome(\"hello\"))"
   ]
  },
  {
   "cell_type": "code",
   "execution_count": null,
   "id": "d130fcc7-0086-4a1c-ba0b-8775fc367596",
   "metadata": {},
   "outputs": [],
   "source": [
    "def any_lowercase1(s):\n",
    "    for c in s:\n",
    "        if c.islower():\n",
    "            return True\n",
    "        else:\n",
    "            return False\n",
    "\n",
    "only checks the first character"
   ]
  },
  {
   "cell_type": "code",
   "execution_count": 7,
   "id": "fea6f037-2c52-4dc0-841d-5be3884591f5",
   "metadata": {},
   "outputs": [],
   "source": [
    "def any_lowercase2(s):\n",
    "    for c in s:\n",
    "        if 'c'.islower():\n",
    "            return 'True'\n",
    "        else:\n",
    "            return 'False'\n",
    "\n",
    "'c'.islower() always returns True because it checks the literal character 'c', not c from the loop."
   ]
  },
  {
   "cell_type": "code",
   "execution_count": 9,
   "id": "5071c6b3-cfb1-4f47-a630-a6e515b700be",
   "metadata": {},
   "outputs": [],
   "source": [
    "def any_lowercase3(s):\n",
    "    for c in s:\n",
    "        flag = c.islower()\n",
    "    return flag\n",
    "\n",
    "flag keeps updating in every loop iteration, storing the result for the last character only."
   ]
  },
  {
   "cell_type": "code",
   "execution_count": 11,
   "id": "3e688856-108b-436a-98cc-525f3d75c1c9",
   "metadata": {},
   "outputs": [],
   "source": [
    "def any_lowercase4(s):\n",
    "    flag = False\n",
    "    for c in s:\n",
    "        flag = flag or c.islower()\n",
    "    return flag\n",
    "\n",
    "This function checks if all characters are lowercase."
   ]
  },
  {
   "cell_type": "code",
   "execution_count": 13,
   "id": "3b0ab57a-70dd-47ba-aad8-84a8d4db9f82",
   "metadata": {},
   "outputs": [],
   "source": [
    "def any_lowercase5(s):\n",
    "    for c in s:\n",
    "        if not c.islower():\n",
    "            return False\n",
    "    return True"
   ]
  },
  {
   "cell_type": "code",
   "execution_count": 15,
   "id": "5426f96f-97e4-48ce-a20c-2fd528b58494",
   "metadata": {},
   "outputs": [
    {
     "name": "stdout",
     "output_type": "stream",
     "text": [
      "jolly\n",
      "cubed\n",
      "HAL\n"
     ]
    }
   ],
   "source": [
    "def rotate_word(word, shift):\n",
    "    rotated = \"\"\n",
    "    for char in word:\n",
    "        if char.isalpha(): \n",
    "            start = ord('A') if char.isupper() else ord('a')\n",
    "            new_char = chr(start + (ord(char) - start + shift) % 26)\n",
    "            rotated += new_char\n",
    "        else:\n",
    "            rotated += char  \n",
    "    return rotated\n",
    "\n",
    "print(rotate_word(\"cheer\", 7))  \n",
    "print(rotate_word(\"melon\", -10)) \n",
    "print(rotate_word(\"IBM\", -1)) "
   ]
  },
  {
   "cell_type": "code",
   "execution_count": null,
   "id": "a18fcea8-160f-48de-8ca9-3b2b4808126e",
   "metadata": {},
   "outputs": [],
   "source": []
  }
 ],
 "metadata": {
  "kernelspec": {
   "display_name": "Python [conda env:base] *",
   "language": "python",
   "name": "conda-base-py"
  },
  "language_info": {
   "codemirror_mode": {
    "name": "ipython",
    "version": 3
   },
   "file_extension": ".py",
   "mimetype": "text/x-python",
   "name": "python",
   "nbconvert_exporter": "python",
   "pygments_lexer": "ipython3",
   "version": "3.12.7"
  }
 },
 "nbformat": 4,
 "nbformat_minor": 5
}
